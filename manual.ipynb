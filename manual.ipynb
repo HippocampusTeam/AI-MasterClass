{
 "nbformat": 4,
 "nbformat_minor": 2,
 "metadata": {
  "colab": {
   "name": "Копия блокнота \"Введение Python.ipynb\"",
   "provenance": [],
   "collapsed_sections": []
  },
  "kernelspec": {
   "name": "python3",
   "display_name": "Python 3.7.4 32-bit"
  },
  "language_info": {
   "name": "python",
   "version": "3.7.4",
   "mimetype": "text/x-python",
   "codemirror_mode": {
    "name": "ipython",
    "version": 3
   },
   "pygments_lexer": "ipython3",
   "nbconvert_exporter": "python",
   "file_extension": ".py"
  },
  "interpreter": {
   "hash": "93f0c3f7b6c2928b8cb61757b85e1f70d7c11cef6d94387960ffed48f147f33b"
  }
 },
 "cells": [
  {
   "cell_type": "markdown",
   "source": [
    "# Введение в программирование. Язык программирования Python\n",
    "## Содержание\n",
    "\n",
    "1. Что такое программирование?\n",
    "2. Переменные и операции над ними\n",
    "3. Функции\n",
    "4. Списки\n",
    "5. Цикл for"
   ],
   "metadata": {
    "id": "bWvZen_ncGea"
   }
  },
  {
   "cell_type": "code",
   "execution_count": null,
   "source": [
    "def input_number(output=''):\n",
    "    return int(input(output))"
   ],
   "outputs": [],
   "metadata": {
    "id": "I7djEHfjoXvQ"
   }
  },
  {
   "cell_type": "markdown",
   "source": [
    "# Что такое программирование?\n",
    "\n",
    "- Все мы, используя компьютер, на самом деле общаемся с программами. Их суть - решать наши проблемы. Мы даём программе *входные данные* (описание проблемы), в ответ на что программа возвращает нам вывод (решение проблемы).\n",
    "- Задача программиста - написание точной пошаговой инструкции решения проблемы для компьютера.\n",
    "- Существуют разные языки написания инструкций компьютеру - языки программирования. Сегодня мы научим вас программированию на языке Python.\n",
    "- Начнем с простого, **заставим** компьютер с нами поздороваться:"
   ],
   "metadata": {
    "id": "0FhZME8ubq5O"
   }
  },
  {
   "cell_type": "code",
   "execution_count": null,
   "source": [
    "print('Привет, мир!')"
   ],
   "outputs": [],
   "metadata": {
    "colab": {
     "base_uri": "https://localhost:8080/"
    },
    "id": "j-U0SONSbCWZ",
    "outputId": "95ce7334-2e8c-4d12-8452-61aad8b9618c"
   }
  },
  {
   "cell_type": "markdown",
   "source": [
    "- **print()** - команда Python, выводящая на экран то, что мы положим в скобки. Каждая команда находится на новой строчке.\n",
    "Программа выполняется *построчно*.\n",
    "\n",
    "**Задание:** Попробуй изменить текст в кавычках на что-то свое.\n"
   ],
   "metadata": {
    "id": "43aabRlEDJ0_"
   }
  },
  {
   "cell_type": "markdown",
   "source": [
    "# Переменные\n",
    "- **Переменная** - контейнер в памяти компьютера, в котором хранятся какие-то данные. У каждого переменной есть название. Назвать вы ее можете абсолютно как хотите. Например: "
   ],
   "metadata": {
    "id": "fPN8E5Yeb6eC"
   }
  },
  {
   "cell_type": "code",
   "execution_count": null,
   "source": [
    "x = 8  # Объявляем переменную c названием x, хранящую в себе число 8\n",
    "y = 36.6  # Объявляем переменную c названием y, хранящую в себе число 36.6\n",
    "name = 'Иван'  # Объявляем переменную c названием name, хранящую в себе строку 'Иван'\n",
    "\n",
    "print(x, y, name)  # Выводим переменные x, y и name через пробел"
   ],
   "outputs": [],
   "metadata": {
    "colab": {
     "base_uri": "https://localhost:8080/"
    },
    "id": "mpUt-3PJe5aX",
    "outputId": "f69b9fb5-a750-4597-8890-96f83224ee74"
   }
  },
  {
   "cell_type": "markdown",
   "source": [
    "- Зеленые надписи на русском после сивола \"**#**\" - это **комментарии**. Компьютер игнорирует весь текст, что идет после хэштега. Благодаря ним программисты могут оставлять заметки и пояснения в коде.\n",
    "\n",
    "**Задание:** Попробуй изменить значения переменных в ячейке выше.\n",
    "\n",
    "- У всех данных есть **тип**. В Python их много, но сейчас нас интересуют эти:\n",
    "    - **int** (integer) - *целое* число. *(Например: 2654, 0, -4, 65474327)*\n",
    "    - **float** - число *с плавающей точкой* (вещественное). *(Например: -0.847, 6.0, 455677.6)*\n",
    "    - **string** - последовательность символов, *строка*. Обозначается кавычками (либо одинарными, либо двойными) *(Например: 'Ivan', \"Ivan\", '124', '#$#6@fegПr'*)\n",
    "- Переменные могут хранить данные *любого* типа. Но обрабатывать разные типы данных нужно по-разному.\n",
    "- Так как переменные - это контейнеры, то мы можем положить в них что-нибудь другое. Например:"
   ],
   "metadata": {
    "id": "vCFlJiIZfxqB"
   }
  },
  {
   "cell_type": "code",
   "execution_count": null,
   "source": [
    "y = 'В@ся2006' # Теперь в переменной y хранится чей-то никнейм (строка)\n",
    " \n",
    "print(y) # Выводим переменную y"
   ],
   "outputs": [],
   "metadata": {
    "colab": {
     "base_uri": "https://localhost:8080/"
    },
    "id": "WXSgJMXKig59",
    "outputId": "fc9699f9-f58b-4d65-a75f-31d313cb4f1a"
   }
  },
  {
   "cell_type": "markdown",
   "source": [
    "### Арифметические операции\n",
    "- Возможны только с *числовыми* типами данных (int, float)"
   ],
   "metadata": {
    "id": "3-yxOJMKjzv7"
   }
  },
  {
   "cell_type": "code",
   "execution_count": null,
   "source": [
    "# Сложение (+)\n",
    "\n",
    "a = 5\n",
    "b = 6 + 1\n",
    "\n",
    "print(a, b)\n",
    "print('Сумма:', a + b)"
   ],
   "outputs": [],
   "metadata": {
    "colab": {
     "base_uri": "https://localhost:8080/"
    },
    "id": "KyEi5k_VkFgA",
    "outputId": "54153e4b-9787-4244-9628-7991f3424056"
   }
  },
  {
   "cell_type": "code",
   "execution_count": null,
   "source": [
    "# Вычитание (-)\n",
    "\n",
    "a = 5.5 - 3\n",
    "b = 3\n",
    "\n",
    "print(a, b)\n",
    "print('Разность', a - b)"
   ],
   "outputs": [],
   "metadata": {
    "colab": {
     "base_uri": "https://localhost:8080/"
    },
    "id": "JbrzT3CgkxT3",
    "outputId": "a91028eb-1aee-410a-a898-10e1640980f4"
   }
  },
  {
   "cell_type": "code",
   "execution_count": null,
   "source": [
    "# Умножение (*)\n",
    "\n",
    "a = 2\n",
    "b = 4\n",
    "\n",
    "print(a, b)\n",
    "print('Произведение:', a * b)"
   ],
   "outputs": [],
   "metadata": {
    "colab": {
     "base_uri": "https://localhost:8080/"
    },
    "id": "Ddt-wTRyk0Av",
    "outputId": "195a4fb2-6785-412f-dab3-38dbd07b78e9"
   }
  },
  {
   "cell_type": "code",
   "execution_count": null,
   "source": [
    "# Деление (/)\n",
    "\n",
    "a = 2\n",
    "b = 4\n",
    "\n",
    "print(a, b)\n",
    "print('Частное:', a / b)"
   ],
   "outputs": [],
   "metadata": {
    "colab": {
     "base_uri": "https://localhost:8080/"
    },
    "id": "eqndotE_k3jQ",
    "outputId": "ff7cea90-1a9d-472a-ab44-b9160e365282"
   }
  },
  {
   "cell_type": "code",
   "execution_count": null,
   "source": [
    "# Также можно комбинировать эти операции (их порядок выполнения как в арифметике)\n",
    "a = 2.5\n",
    "b = 3\n",
    "\n",
    "print(a, b)\n",
    "print((b - a) * 3 + 6 / 2) # Сначала выполняются выражения в скобках, потом умножение и деление, а потом сумма и разность"
   ],
   "outputs": [],
   "metadata": {
    "colab": {
     "base_uri": "https://localhost:8080/"
    },
    "id": "CcLeY85DtoX1",
    "outputId": "6457ca8a-f1a7-45f4-fb21-2d006200ecc9"
   }
  },
  {
   "cell_type": "markdown",
   "source": [
    "**Задание:** Попробуй, не изменяя переменные а и b, написать арифметическое выражение с ними в предыдущей ячейке, в результате которого выходит чило 41."
   ],
   "metadata": {
    "id": "oHpiA4P7INdQ"
   }
  },
  {
   "cell_type": "markdown",
   "source": [
    "# Функции\n",
    "- **Функции** - это маленькие именованные подпрограммы, которые мы можем использовать (и создавать) в своих программах. У функции есть входные значения функций, которые называются **аргументами**.\n",
    "    - Например, мы уже использовали функцию *print()*, принимающую то, что мы хотим вывести на экран, в качестве аргумента. В Python аргументы функции предаются внутри скобок.\n"
   ],
   "metadata": {
    "id": "o6QDER6AGlvD"
   }
  },
  {
   "cell_type": "code",
   "execution_count": null,
   "source": [
    "print('Привет, я - аргумент функции!')"
   ],
   "outputs": [],
   "metadata": {
    "colab": {
     "base_uri": "https://localhost:8080/"
    },
    "id": "qwJUWcFwOxXq",
    "outputId": "7b7f0f43-4a96-4a6f-e7c9-69a18c83339e"
   }
  },
  {
   "cell_type": "markdown",
   "source": [
    "- У функций есть два вида выводов (ответов):\n",
    "    - **побочный вывод** (Например: вывод чего-то на экран)\n",
    "    - **возвращаемое значение** (return value) - значение, которое функция возвращает нашей программе. Мы можем использовать его сразу или сохранить в переменной на будущее.\n",
    "\n",
    "- Например, функция **input()** получает в качестве аргумента фразу, которую вы хотите вывести на экран и возвращает программе то, что напечатал пользователь (string, строку):\n"
   ],
   "metadata": {
    "id": "KpYUcKKWOzYw"
   }
  },
  {
   "cell_type": "code",
   "execution_count": null,
   "source": [
    "name = input('Как тебя зовут? ')\n",
    "print('Привет,', name)"
   ],
   "outputs": [],
   "metadata": {
    "colab": {
     "base_uri": "https://localhost:8080/"
    },
    "id": "AuawgI5zWIoz",
    "outputId": "cc8ecb7f-0947-48be-8351-f32bad428d2e"
   }
  },
  {
   "cell_type": "markdown",
   "source": [
    "- Можно создавать и *свои собственные функции* используя ключевое слово **def**. Зачем? Во избежание повторения кода в разных частях программы. А так же для упрощения ее чтения и понимания. Например:"
   ],
   "metadata": {
    "id": "xrKYoCt7gwkd"
   }
  },
  {
   "cell_type": "code",
   "execution_count": null,
   "source": [
    "# Функция для вычисления среднего арифметического двух чисел\n",
    "def average(a, b):\n",
    "    sum = a + b\n",
    "    return sum / 2  # Возвращаем результат (float, вещественное число, так как деление НЕ целочисленное)\n",
    "\n",
    "\n",
    "print('Введите два числа:')\n",
    "x = input_number()  # Изначально функция input() возвращает string (строку, последовательность символов)\n",
    "y = input_number()  # Поэтому для арифметических операций мы используем функцию, возвращающую целое число\n",
    "print('Среднее арифметическое этих чисел:', average(x, y))  # Выводим результат функции"
   ],
   "outputs": [],
   "metadata": {
    "colab": {
     "base_uri": "https://localhost:8080/"
    },
    "id": "MQBSJvwujHmp",
    "outputId": "2cb96be7-1a29-4e65-de07-77cc91c72bed"
   }
  },
  {
   "cell_type": "markdown",
   "source": [
    "- Весь код функции должен находиться в **теле функции**. Иными словами, то, что является частью функции должно находиться после двоеточия и иметь дополнительный отспуп (tab) слева.\n",
    "- Можно заметить, что в 8 строке вместо обычной функции *input()*, мы используем функцию **input_number()** - эта функция позволяет получить от пользователя **число** (int)."
   ],
   "metadata": {
    "id": "w0JgMGqx1_JB"
   }
  },
  {
   "cell_type": "markdown",
   "source": [
    "**Задание:** напишите функцию, получающую год рождения человека и текущий год, и возвращающую его возраст:"
   ],
   "metadata": {
    "id": "BaWjWDl4H7rM"
   }
  },
  {
   "cell_type": "code",
   "execution_count": null,
   "source": [
    "def get_age(birth_year, current_year):\n",
    "    return  # TODO: Допишите нужные вычисления\n",
    "\n",
    "\n",
    "birth_year = input_number('Введите год вашего рождения')\n",
    "current_year = input_number('Введите текущий год')\n",
    "print('Ваш возраст:', get_age(birth_year, current_year))"
   ],
   "outputs": [],
   "metadata": {
    "id": "n0LUeiDrJeVw",
    "colab": {
     "base_uri": "https://localhost:8080/"
    },
    "outputId": "f0e054ec-ff5e-447f-dd46-a05fe5b7588b"
   }
  },
  {
   "cell_type": "markdown",
   "source": [
    "# Списки\n",
    "- Зачастую требуется хранить большое количество значений. А иногда ты даже не знаешь сколько конкретно их понадобится пользователю. Именно поэтому суцествуют **списки**.\n",
    "- Самая простая аналогия к спискам - список покупок:\n",
    "    1. Молоко\n",
    "    2. Яйца   \n",
    "    3. Хлеб\n",
    "- Вы в любой момент можете добавить или убрать что-то из списка. Например, мы купили яйца. Все продукты после яиц сдвигаются на один пукт списка назад:\n",
    "    1. Молоко\n",
    "    2. Хлеб\n",
    "- Но в магазине мы поняли, что нам нужна еще и паста. Добавляем ее **в конец** списка:\n",
    "    1. Молоко\n",
    "    2. Хлеб\n",
    "    3. Паста\n",
    "- В Python все так же. Единственное, что отличется - номера (**индексы**) элементов списка начинаются с 0. То есть вот так:\n",
    "    0. 'Молоко'\n",
    "    1. 'Хлеб'\n",
    "    2. 'Паста'\n",
    "- В коде список обозначается квадратными скобками:"
   ],
   "metadata": {
    "id": "S2_yfK8qHPTY"
   }
  },
  {
   "cell_type": "code",
   "execution_count": null,
   "source": [
    "products = ['Молоко', 'Яйца', 'Хлеб']  # Создаем такой же список продуктов\n",
    "print(products)"
   ],
   "outputs": [],
   "metadata": {
    "colab": {
     "base_uri": "https://localhost:8080/"
    },
    "id": "kXOQOxedP0JT",
    "outputId": "82adc271-7433-450b-f94e-47ed5bab6c81"
   }
  },
  {
   "cell_type": "markdown",
   "source": [
    "- Мы можем получить конкретный элемнт списка по его индексу (номеру) с помощью квадратных скобок:"
   ],
   "metadata": {
    "id": "_bq1-WdNQOt7"
   }
  },
  {
   "cell_type": "code",
   "execution_count": null,
   "source": [
    "print(products[0], products[1], products[2])"
   ],
   "outputs": [],
   "metadata": {
    "colab": {
     "base_uri": "https://localhost:8080/"
    },
    "id": "iFkCochmQoy1",
    "outputId": "8c4cc05f-ac61-48ee-9407-9a413af9049d"
   }
  },
  {
   "cell_type": "markdown",
   "source": [
    "- Чтобы удалить определенный элемент списка, используют *ключевое слово* **del**:"
   ],
   "metadata": {
    "id": "mfYXKSMmREws"
   }
  },
  {
   "cell_type": "code",
   "execution_count": null,
   "source": [
    "del products[1]  # Удаляем яйца\n",
    "print(products)"
   ],
   "outputs": [],
   "metadata": {
    "colab": {
     "base_uri": "https://localhost:8080/"
    },
    "id": "Ck3vTwexShs1",
    "outputId": "3bc6c3b8-64ac-4c2e-dc81-95cdbe1afa98"
   }
  },
  {
   "cell_type": "markdown",
   "source": [
    "- Чтобы добавить новый элемент списка используется *функция* **append()**:"
   ],
   "metadata": {
    "id": "KdAbBbpyUE3H"
   }
  },
  {
   "cell_type": "code",
   "execution_count": null,
   "source": [
    "products.append('Паста')\n",
    "print(products)"
   ],
   "outputs": [],
   "metadata": {
    "colab": {
     "base_uri": "https://localhost:8080/"
    },
    "id": "77Xeft0MVwvh",
    "outputId": "b3aa209d-3753-4f3a-84ab-93a752344e89"
   }
  },
  {
   "cell_type": "markdown",
   "source": [
    "- Обрати внимание на то, что эта функция вызывается **из** списка через символ точки. Почему это так работает мы разберем чуть позже.\n",
    "- Функция **len()** позволяет узнать *размер*(количество элементов) списка:"
   ],
   "metadata": {
    "id": "_TFe49lrV8jt"
   }
  },
  {
   "cell_type": "code",
   "execution_count": null,
   "source": [
    "print(products)\n",
    "print(len(products))"
   ],
   "outputs": [],
   "metadata": {
    "id": "4WicbnT_vL0i"
   }
  },
  {
   "cell_type": "markdown",
   "source": [
    "- Также можно создавать пустые списки:"
   ],
   "metadata": {
    "id": "hxQwMz_Wu85u"
   }
  },
  {
   "cell_type": "code",
   "execution_count": null,
   "source": [
    "a = list()\n",
    "# Или\n",
    "b = []\n",
    "\n",
    "print(a, b)"
   ],
   "outputs": [],
   "metadata": {
    "id": "4LPNXowOvG9b",
    "colab": {
     "base_uri": "https://localhost:8080/"
    },
    "outputId": "5efa27c5-1296-4f11-a206-824416b61859"
   }
  },
  {
   "cell_type": "markdown",
   "source": [
    "**Задание:** попробуйте положить в список другие типы данных (int, float). Удалите часть получившегося списка (с помощью *del*) и добавьте новые элементы.\n",
    "- Более того, в список мы можем класть не только числа и строки. В них можно хранить **абсолютно любой тип**:"
   ],
   "metadata": {
    "id": "18aSm97wkKD7"
   }
  },
  {
   "cell_type": "code",
   "execution_count": null,
   "source": [
    "a = ['hi', 34, -5.78]  # Обратите внимание на то, что разные типы могут быть вместе в одном списке\n",
    "print(a[0])\n",
    "print(a[1])\n",
    "print(a[2])"
   ],
   "outputs": [],
   "metadata": {
    "colab": {
     "base_uri": "https://localhost:8080/"
    },
    "id": "9JpNzD40fuKM",
    "outputId": "04210f9f-c859-4774-ba90-983d6c636091"
   }
  },
  {
   "cell_type": "markdown",
   "source": [
    "# Цикл for\n",
    "- Если нам нужно несколько раз повторять одно и то же действие, то для этого мы можем использовать **циклы**. А конкретно мы будем использовать **цикл for**.\n",
    "- Например, мы могли бы вывести содержание списка так:"
   ],
   "metadata": {
    "id": "2LO4uJ-7W6Mn"
   }
  },
  {
   "cell_type": "code",
   "execution_count": null,
   "source": [
    "numbers = [3, 579, 6.78, '975'] \n",
    "\n",
    "print(numbers[0])\n",
    "print(numbers[1])\n",
    "print(numbers[2])\n",
    "print(numbers[3])"
   ],
   "outputs": [],
   "metadata": {
    "colab": {
     "base_uri": "https://localhost:8080/"
    },
    "id": "jieuvDIYr-8r",
    "outputId": "a15620a9-188c-438d-fe5f-b1bfe2fd6020"
   }
  },
  {
   "cell_type": "markdown",
   "source": [
    "- Но мы не можем заранее быть увереными в количестве пунктов списка, которые нам нужно будет добавиь или вывести, поэтому используем *цикл for*:"
   ],
   "metadata": {
    "id": "MN6V8hNBsZ0-"
   }
  },
  {
   "cell_type": "code",
   "execution_count": null,
   "source": [
    "numbers = [3, 579, 6.78, '975']\r\n",
    "for number in numbers:\r\n",
    "    print(number)"
   ],
   "outputs": [],
   "metadata": {
    "colab": {
     "base_uri": "https://localhost:8080/"
    },
    "id": "f14EaTbMsWn4",
    "outputId": "30862ca5-36af-41c0-ed33-4aad44895bb9"
   }
  },
  {
   "cell_type": "markdown",
   "source": [
    "- Вывод будет идентичным. Как так? Как уже было сказано, цикл - это повторение какого-то действия: \n",
    "    1. Когда компьютер видит строчку кода номер 2, он кладет в переменную number следующий элемент списка (в нашем случае, изначально число 3).\n",
    "    2. После этого он идет в так называемое **тело цикла** - те строки, что находятся после двоеточия и имеют дополнительный отспуп (tab) слева. В нашем случае это только строчка номер 3. Исполняя эту строчку, он выводит на экран значение.\n",
    "    3. Возвращаемся на шаг 1 (строчка номер 2), если список еще не закончился.\n",
    "- Таким образом эти три шага повторяются до тех пор, пока мы не выведем весь список."
   ],
   "metadata": {
    "id": "RyI-Yi78vr5D"
   }
  },
  {
   "cell_type": "markdown",
   "source": [
    "- Чтобы изменить значение элемента спаска, нужно обратиться к нему по индексу.\n",
    "- Для этого используем функцию **range(от, до)** - она генерирует и возвращает нам список со сначениями *от* первого аргумента *до* (не включительно) второго:"
   ],
   "metadata": {
    "id": "pHierKGp39wE"
   }
  },
  {
   "cell_type": "code",
   "execution_count": null,
   "source": [
    "for number in range(1, 10):  # Посчитаем от одного до десяти не включительно\r\n",
    "    print(number)"
   ],
   "outputs": [],
   "metadata": {
    "colab": {
     "base_uri": "https://localhost:8080/"
    },
    "id": "-Dcfq57y4qK2",
    "outputId": "28018c7f-0ec0-4d7c-deab-5511a2b542c1"
   }
  },
  {
   "cell_type": "markdown",
   "source": [
    "А теперь посчитаем сумму всех целых чисел от 3 до 20. Для это создадим переменную *sum* и на каждой итерации цикла будем добавлять туда число."
   ],
   "metadata": {
    "collapsed": false
   }
  },
  {
   "cell_type": "code",
   "execution_count": 1,
   "source": [
    "sum = 0\r\n",
    "\r\n",
    "for n in range(3, 21):  # Посчитаем от одного до десяти не включительно\r\n",
    "    sum = sum + n\r\n",
    "\r\n",
    "print(sum)"
   ],
   "outputs": [
    {
     "output_type": "stream",
     "name": "stdout",
     "text": [
      "207\n"
     ]
    }
   ],
   "metadata": {
    "collapsed": false,
    "pycharm": {
     "name": "#%%\n"
    }
   }
  },
  {
   "cell_type": "markdown",
   "source": [
    "**Задание:** измените код сверху так, чтобы посчитать *сумму чисел* от -5 до 100 *включительно*.\n"
   ],
   "metadata": {
    "id": "x2P4WblOVQsP",
    "pycharm": {
     "name": "#%% md\n"
    }
   }
  }
 ]
}